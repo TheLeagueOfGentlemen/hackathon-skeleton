{
 "metadata": {
  "name": ""
 },
 "nbformat": 3,
 "nbformat_minor": 0,
 "worksheets": [
  {
   "cells": [
    {
     "cell_type": "code",
     "collapsed": false,
     "input": [
      "url = 'http://www.efficiencyvermont.com/docs/about_efficiency_vermont/initiatives/2006-2011_Usage_and_Savings.xlsx'\n",
      "filename = '/home/brian/downloads/2006-2011_Usage_and_Savings.xlsx'\n",
      "\n",
      "import xlrd\n",
      "import pandas as pd\n",
      "from scipy import stats\n",
      "\n",
      "def xls_to_dfs(filename):\n",
      "    sheets = xlrd.open_workbook(filename).nsheets\n",
      "    \n",
      "    years = {}\n",
      "    for sheet_num in xrange(sheets):\n",
      "        year = str(2006 + sheet_num)\n",
      "        df = pd.read_excel(filename, sheet_num, skiprows=[0,],\n",
      "                           parse_cols=range(0,8), index_col=0)\n",
      "        df.columns = pd.Index(['Commercial Usage', 'Residential Usage',\n",
      "                               'Commercial Savings', 'Residential Savings',\n",
      "                               'Num Households', 'Avg Res Usage', 'Avg Res Savings'])\n",
      "        years[year] = df\n",
      "    return years\n",
      "\n",
      "def reindex_intersection(dfs):\n",
      "    y10 = dfs['2010']\n",
      "    y11 = dfs['2011']\n",
      "\n",
      "    def ix_set(df):\n",
      "        return set(df.index.values.tolist())\n",
      "\n",
      "    common = ix_set(y10).intersection(ix_set(y11))\n",
      "    new_idx = pd.Index(sorted(list(common)))\n",
      "    \n",
      "    ret = {}\n",
      "    for key in dfs.keys():\n",
      "        ret[key] = dfs[key].reindex(new_idx)\n",
      "    return ret\n",
      "\n",
      "def parse_vt_energy(filename):\n",
      "    years = xls_to_dfs(filename)\n",
      "    common_towns = reindex_intersection(years)\n",
      "    return pd.Panel(common_towns)\n",
      "\n",
      "panel = parse_vt_energy(filename)\n",
      "panel"
     ],
     "language": "python",
     "metadata": {},
     "outputs": [
      {
       "metadata": {},
       "output_type": "pyout",
       "prompt_number": 62,
       "text": [
        "<class 'pandas.core.panel.Panel'>\n",
        "Dimensions: 6 (items) x 239 (major_axis) x 7 (minor_axis)\n",
        "Items axis: 2006 to 2011\n",
        "Major_axis axis: ADDISON to WORCESTER\n",
        "Minor_axis axis: Commercial Usage to Avg Res Savings"
       ]
      }
     ],
     "prompt_number": 62
    },
    {
     "cell_type": "code",
     "collapsed": false,
     "input": [
      "stats_cols = panel.transpose(2,1,0)\n",
      "stats_cols"
     ],
     "language": "python",
     "metadata": {},
     "outputs": [
      {
       "metadata": {},
       "output_type": "pyout",
       "prompt_number": 60,
       "text": [
        "<class 'pandas.core.panel.Panel'>\n",
        "Dimensions: 7 (items) x 239 (major_axis) x 6 (minor_axis)\n",
        "Items axis: Commercial Usage to Avg Res Savings\n",
        "Major_axis axis: ADDISON to WORCESTER\n",
        "Minor_axis axis: 2006 to 2011"
       ]
      }
     ],
     "prompt_number": 60
    },
    {
     "cell_type": "code",
     "collapsed": false,
     "input": [
      "usage = stats_cols['Commercial Usage']\n",
      "print usage.head()\n",
      "print usage.T['ADDISON']\n",
      "# stats.linregress(usage.T)"
     ],
     "language": "python",
     "metadata": {},
     "outputs": [
      {
       "output_type": "stream",
       "stream": "stdout",
       "text": [
        "                   2006          2007          2008          2009          2010          2011\n",
        "ADDISON         2936509       2959780       2972518       2953842       3127784       3258405\n",
        "ALBANY           559958        512357        537496        513794        550939        494535\n",
        "ALBURG          5140661       3916752       3829667       3602862       3830196       3715648\n",
        "ANDOVER           18214         24820         29913         30857         24930         31381\n",
        "ARLINGTON  2.084692e+07  2.126893e+07  2.080669e+07  1.739948e+07  1.670738e+07  1.672729e+07\n",
        "2006    2936509\n",
        "2007    2959780\n",
        "2008    2972518\n",
        "2009    2953842\n",
        "2010    3127784\n",
        "2011    3258405\n",
        "Name: ADDISON, dtype: object\n"
       ]
      }
     ],
     "prompt_number": 67
    },
    {
     "cell_type": "code",
     "collapsed": false,
     "input": [
      "usage"
     ],
     "language": "python",
     "metadata": {},
     "outputs": [
      {
       "html": [
        "<pre>\n",
        "&lt;class 'pandas.core.frame.DataFrame'&gt;\n",
        "Index: 347 entries, ADDISON to WORCESTER\n",
        "Data columns (total 6 columns):\n",
        "2006    248  non-null values\n",
        "2007    248  non-null values\n",
        "2008    248  non-null values\n",
        "2009    248  non-null values\n",
        "2010    248  non-null values\n",
        "2011    337  non-null values\n",
        "dtypes: object(6)\n",
        "</pre>"
       ],
       "metadata": {},
       "output_type": "pyout",
       "prompt_number": 45,
       "text": [
        "<class 'pandas.core.frame.DataFrame'>\n",
        "Index: 347 entries, ADDISON to WORCESTER\n",
        "Data columns (total 6 columns):\n",
        "2006    248  non-null values\n",
        "2007    248  non-null values\n",
        "2008    248  non-null values\n",
        "2009    248  non-null values\n",
        "2010    248  non-null values\n",
        "2011    337  non-null values\n",
        "dtypes: object(6)"
       ]
      }
     ],
     "prompt_number": 45
    },
    {
     "cell_type": "code",
     "collapsed": false,
     "input": [
      "panel"
     ],
     "language": "python",
     "metadata": {},
     "outputs": [
      {
       "metadata": {},
       "output_type": "pyout",
       "prompt_number": 49,
       "text": [
        "<class 'pandas.core.panel.Panel'>\n",
        "Dimensions: 6 (items) x 347 (major_axis) x 7 (minor_axis)\n",
        "Items axis: 2006 to 2011\n",
        "Major_axis axis: ADDISON to WORCESTER\n",
        "Minor_axis axis: Commercial Usage to Avg Res Savings"
       ]
      }
     ],
     "prompt_number": 49
    },
    {
     "cell_type": "code",
     "collapsed": false,
     "input": [
      "usage = panel.minor_xs('Commercial Usage')"
     ],
     "language": "python",
     "metadata": {},
     "outputs": [],
     "prompt_number": 52
    },
    {
     "cell_type": "code",
     "collapsed": false,
     "input": [
      "usage"
     ],
     "language": "python",
     "metadata": {},
     "outputs": [
      {
       "html": [
        "<pre>\n",
        "&lt;class 'pandas.core.frame.DataFrame'&gt;\n",
        "Index: 347 entries, ADDISON to WORCESTER\n",
        "Data columns (total 6 columns):\n",
        "2006    248  non-null values\n",
        "2007    248  non-null values\n",
        "2008    248  non-null values\n",
        "2009    248  non-null values\n",
        "2010    248  non-null values\n",
        "2011    337  non-null values\n",
        "dtypes: float64(4), object(2)\n",
        "</pre>"
       ],
       "metadata": {},
       "output_type": "pyout",
       "prompt_number": 53,
       "text": [
        "<class 'pandas.core.frame.DataFrame'>\n",
        "Index: 347 entries, ADDISON to WORCESTER\n",
        "Data columns (total 6 columns):\n",
        "2006    248  non-null values\n",
        "2007    248  non-null values\n",
        "2008    248  non-null values\n",
        "2009    248  non-null values\n",
        "2010    248  non-null values\n",
        "2011    337  non-null values\n",
        "dtypes: float64(4), object(2)"
       ]
      }
     ],
     "prompt_number": 53
    },
    {
     "cell_type": "code",
     "collapsed": false,
     "input": [
      "s = usage.sort(2010, ascending=False)"
     ],
     "language": "python",
     "metadata": {},
     "outputs": [],
     "prompt_number": 59
    },
    {
     "cell_type": "code",
     "collapsed": false,
     "input": [
      "s.tail()"
     ],
     "language": "python",
     "metadata": {},
     "outputs": [
      {
       "html": [
        "<div style=\"max-height:1000px;max-width:1500px;overflow:auto;\">\n",
        "<table border=\"1\" class=\"dataframe\">\n",
        "  <thead>\n",
        "    <tr style=\"text-align: right;\">\n",
        "      <th></th>\n",
        "      <th>2006</th>\n",
        "      <th>2007</th>\n",
        "      <th>2008</th>\n",
        "      <th>2009</th>\n",
        "      <th>2010</th>\n",
        "      <th>2011</th>\n",
        "    </tr>\n",
        "  </thead>\n",
        "  <tbody>\n",
        "    <tr>\n",
        "      <th>ELMORE</th>\n",
        "      <td> 2235</td>\n",
        "      <td> 2228</td>\n",
        "      <td> 4923</td>\n",
        "      <td> 4990</td>\n",
        "      <td> 3833</td>\n",
        "      <td>  8338</td>\n",
        "    </tr>\n",
        "    <tr>\n",
        "      <th>WALDEN</th>\n",
        "      <td> 5049</td>\n",
        "      <td> 5280</td>\n",
        "      <td> 3239</td>\n",
        "      <td> 2964</td>\n",
        "      <td> 3011</td>\n",
        "      <td> 28001</td>\n",
        "    </tr>\n",
        "    <tr>\n",
        "      <th>BUELS GORE</th>\n",
        "      <td>    0</td>\n",
        "      <td>    0</td>\n",
        "      <td>    0</td>\n",
        "      <td>    0</td>\n",
        "      <td>    0</td>\n",
        "      <td>     0</td>\n",
        "    </tr>\n",
        "    <tr>\n",
        "      <th>SOMERSET</th>\n",
        "      <td>    0</td>\n",
        "      <td>    0</td>\n",
        "      <td>    0</td>\n",
        "      <td>    0</td>\n",
        "      <td>    0</td>\n",
        "      <td>   NaN</td>\n",
        "    </tr>\n",
        "    <tr>\n",
        "      <th>STANNARD</th>\n",
        "      <td>    0</td>\n",
        "      <td>    0</td>\n",
        "      <td>    0</td>\n",
        "      <td>    0</td>\n",
        "      <td>    0</td>\n",
        "      <td>  2708</td>\n",
        "    </tr>\n",
        "  </tbody>\n",
        "</table>\n",
        "</div>"
       ],
       "metadata": {},
       "output_type": "pyout",
       "prompt_number": 61,
       "text": [
        "            2006  2007  2008  2009  2010   2011\n",
        "ELMORE      2235  2228  4923  4990  3833   8338\n",
        "WALDEN      5049  5280  3239  2964  3011  28001\n",
        "BUELS GORE     0     0     0     0     0      0\n",
        "SOMERSET       0     0     0     0     0    NaN\n",
        "STANNARD       0     0     0     0     0   2708"
       ]
      }
     ],
     "prompt_number": 61
    },
    {
     "cell_type": "code",
     "collapsed": false,
     "input": [
      "usage.sort("
     ],
     "language": "python",
     "metadata": {},
     "outputs": []
    }
   ],
   "metadata": {}
  }
 ]
}